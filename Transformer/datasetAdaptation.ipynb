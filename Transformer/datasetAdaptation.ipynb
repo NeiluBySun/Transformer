{
 "cells": [
  {
   "cell_type": "code",
   "execution_count": 1,
   "metadata": {},
   "outputs": [
    {
     "name": "stderr",
     "output_type": "stream",
     "text": [
      "c:\\Users\\arsla\\AppData\\Local\\Programs\\Python\\Python311\\Lib\\site-packages\\tqdm\\auto.py:21: TqdmWarning: IProgress not found. Please update jupyter and ipywidgets. See https://ipywidgets.readthedocs.io/en/stable/user_install.html\n",
      "  from .autonotebook import tqdm as notebook_tqdm\n",
      "[nltk_data] Downloading package punkt to\n",
      "[nltk_data]     C:\\Users\\arsla\\AppData\\Roaming\\nltk_data...\n",
      "[nltk_data]   Package punkt is already up-to-date!\n"
     ]
    }
   ],
   "source": [
    "import nltk\n",
    "from nltk.tokenize import word_tokenize\n",
    "from datasets import load_dataset\n",
    "\n",
    "nltk.download('punkt')\n",
    "dataset = load_dataset(\"daily_dialog\")"
   ]
  },
  {
   "cell_type": "code",
   "execution_count": 2,
   "metadata": {},
   "outputs": [],
   "source": [
    "train = dataset[\"train\"][\"dialog\"]\n",
    "tokenized_dataset = [list(map(word_tokenize,dialog)) for dialog in train]"
   ]
  },
  {
   "cell_type": "code",
   "execution_count": 9,
   "metadata": {},
   "outputs": [
    {
     "name": "stderr",
     "output_type": "stream",
     "text": [
      "11118it [00:44, 250.67it/s]\n"
     ]
    }
   ],
   "source": [
    "words = set()\n",
    "from tqdm import tqdm\n",
    "for d,dialog in tqdm(enumerate(tokenized_dataset)):\n",
    "    for p,phrase in enumerate(dialog):\n",
    "        words = words.union(set(phrase))\n",
    "words = list(words)"
   ]
  },
  {
   "cell_type": "code",
   "execution_count": 30,
   "metadata": {},
   "outputs": [
    {
     "name": "stderr",
     "output_type": "stream",
     "text": [
      "11118it [00:00, 69477.63it/s]\n"
     ]
    }
   ],
   "source": [
    "context_pairs = []\n",
    "for d,dialog in tqdm(enumerate(tokenized_dataset)):\n",
    "    context_pairs += list(zip(dialog,dialog[1:]))\n",
    "        "
   ]
  },
  {
   "cell_type": "code",
   "execution_count": 28,
   "metadata": {},
   "outputs": [],
   "source": [
    "import pickle\n",
    "WordToIdx = {\"<SOS>\":0,\"<EOS>\":1}\n",
    "IdxToWord = {0:\"<SOS>\",1:\"<EOS>\"}\n",
    "for i,word in enumerate(words,2):\n",
    "    IdxToWord[i] = word\n",
    "    WordToIdx[word] = i\n",
    "    \n",
    "with open('IdxToWord.pkl', 'wb') as file:\n",
    "    pickle.dump(IdxToWord, file)\n",
    "with open('WordToIdx.pkl', 'wb') as file:\n",
    "    pickle.dump(WordToIdx, file)"
   ]
  },
  {
   "cell_type": "code",
   "execution_count": 39,
   "metadata": {},
   "outputs": [
    {
     "name": "stderr",
     "output_type": "stream",
     "text": [
      "76052it [00:00, 103381.65it/s]\n"
     ]
    }
   ],
   "source": [
    "IndexedPairsTokens = []\n",
    "for i,pair in tqdm(enumerate(context_pairs)):\n",
    "    IndexedPairsTokens.append([list(map(lambda token: WordToIdx[token],p)) for p in pair])\n",
    "   "
   ]
  },
  {
   "cell_type": "code",
   "execution_count": 41,
   "metadata": {},
   "outputs": [],
   "source": [
    "with open('IndexedPairsTokens.pkl', 'wb') as file:\n",
    "    pickle.dump(IndexedPairsTokens, file)"
   ]
  }
 ],
 "metadata": {
  "kernelspec": {
   "display_name": "Python 3",
   "language": "python",
   "name": "python3"
  },
  "language_info": {
   "codemirror_mode": {
    "name": "ipython",
    "version": 3
   },
   "file_extension": ".py",
   "mimetype": "text/x-python",
   "name": "python",
   "nbconvert_exporter": "python",
   "pygments_lexer": "ipython3",
   "version": "3.11.4"
  }
 },
 "nbformat": 4,
 "nbformat_minor": 2
}
